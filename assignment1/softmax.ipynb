{
 "cells": [
  {
   "cell_type": "markdown",
   "metadata": {
    "tags": [
     "pdf-title"
    ]
   },
   "source": [
    "# Softmax exercise\n",
    "\n",
    "*Complete and hand in this completed worksheet (including its outputs and any supporting code outside of the worksheet) with your assignment submission. For more details see the [assignments page](http://vision.stanford.edu/teaching/cs231n/assignments.html) on the course website.*\n",
    "\n",
    "This exercise is analogous to the SVM exercise. You will:\n",
    "\n",
    "- implement a fully-vectorized **loss function** for the Softmax classifier\n",
    "- implement the fully-vectorized expression for its **analytic gradient**\n",
    "- **check your implementation** with numerical gradient\n",
    "- use a validation set to **tune the learning rate and regularization** strength\n",
    "- **optimize** the loss function with **SGD**\n",
    "- **visualize** the final learned weights\n"
   ]
  },
  {
   "cell_type": "code",
   "execution_count": 2,
   "metadata": {
    "tags": [
     "pdf-ignore"
    ]
   },
   "outputs": [],
   "source": [
    "import random\n",
    "import numpy as np\n",
    "from cs231n.data_utils import load_CIFAR10\n",
    "import matplotlib.pyplot as plt\n",
    "\n",
    "%matplotlib inline\n",
    "plt.rcParams['figure.figsize'] = (10.0, 8.0) # set default size of plots\n",
    "plt.rcParams['image.interpolation'] = 'nearest'\n",
    "plt.rcParams['image.cmap'] = 'gray'\n",
    "\n",
    "# for auto-reloading extenrnal modules\n",
    "# see http://stackoverflow.com/questions/1907993/autoreload-of-modules-in-ipython\n",
    "%load_ext autoreload\n",
    "%autoreload 2"
   ]
  },
  {
   "cell_type": "code",
   "execution_count": 3,
   "metadata": {
    "tags": [
     "pdf-ignore"
    ]
   },
   "outputs": [
    {
     "name": "stdout",
     "output_type": "stream",
     "text": [
      "Train data shape:  (49000, 3073)\n",
      "Train labels shape:  (49000,)\n",
      "Validation data shape:  (1000, 3073)\n",
      "Validation labels shape:  (1000,)\n",
      "Test data shape:  (1000, 3073)\n",
      "Test labels shape:  (1000,)\n",
      "dev data shape:  (500, 3073)\n",
      "dev labels shape:  (500,)\n"
     ]
    }
   ],
   "source": [
    "def get_CIFAR10_data(num_training=49000, num_validation=1000, num_test=1000, num_dev=500):\n",
    "    \"\"\"\n",
    "    Load the CIFAR-10 dataset from disk and perform preprocessing to prepare\n",
    "    it for the linear classifier. These are the same steps as we used for the\n",
    "    SVM, but condensed to a single function.  \n",
    "    \"\"\"\n",
    "    # Load the raw CIFAR-10 data\n",
    "    cifar10_dir = 'cs231n/datasets/cifar-10-batches-py'\n",
    "    \n",
    "    # Cleaning up variables to prevent loading data multiple times (which may cause memory issue)\n",
    "    try:\n",
    "       del X_train, y_train\n",
    "       del X_test, y_test\n",
    "       print('Clear previously loaded data.')\n",
    "    except:\n",
    "       pass\n",
    "\n",
    "    X_train, y_train, X_test, y_test = load_CIFAR10(cifar10_dir)\n",
    "    \n",
    "    # subsample the data\n",
    "    mask = list(range(num_training, num_training + num_validation))\n",
    "    X_val = X_train[mask]\n",
    "    y_val = y_train[mask]\n",
    "    mask = list(range(num_training))\n",
    "    X_train = X_train[mask]\n",
    "    y_train = y_train[mask]\n",
    "    mask = list(range(num_test))\n",
    "    X_test = X_test[mask]\n",
    "    y_test = y_test[mask]\n",
    "    mask = np.random.choice(num_training, num_dev, replace=False)\n",
    "    X_dev = X_train[mask]\n",
    "    y_dev = y_train[mask]\n",
    "    \n",
    "    # Preprocessing: reshape the image data into rows\n",
    "    X_train = np.reshape(X_train, (X_train.shape[0], -1))\n",
    "    X_val = np.reshape(X_val, (X_val.shape[0], -1))\n",
    "    X_test = np.reshape(X_test, (X_test.shape[0], -1))\n",
    "    X_dev = np.reshape(X_dev, (X_dev.shape[0], -1))\n",
    "    \n",
    "    # Normalize the data: subtract the mean image\n",
    "    mean_image = np.mean(X_train, axis = 0)\n",
    "    X_train -= mean_image\n",
    "    X_val -= mean_image\n",
    "    X_test -= mean_image\n",
    "    X_dev -= mean_image\n",
    "    \n",
    "    # add bias dimension and transform into columns\n",
    "    X_train = np.hstack([X_train, np.ones((X_train.shape[0], 1))])\n",
    "    X_val = np.hstack([X_val, np.ones((X_val.shape[0], 1))])\n",
    "    X_test = np.hstack([X_test, np.ones((X_test.shape[0], 1))])\n",
    "    X_dev = np.hstack([X_dev, np.ones((X_dev.shape[0], 1))])\n",
    "    \n",
    "    return X_train, y_train, X_val, y_val, X_test, y_test, X_dev, y_dev\n",
    "\n",
    "\n",
    "# Invoke the above function to get our data.\n",
    "X_train, y_train, X_val, y_val, X_test, y_test, X_dev, y_dev = get_CIFAR10_data()\n",
    "print('Train data shape: ', X_train.shape)\n",
    "print('Train labels shape: ', y_train.shape)\n",
    "print('Validation data shape: ', X_val.shape)\n",
    "print('Validation labels shape: ', y_val.shape)\n",
    "print('Test data shape: ', X_test.shape)\n",
    "print('Test labels shape: ', y_test.shape)\n",
    "print('dev data shape: ', X_dev.shape)\n",
    "print('dev labels shape: ', y_dev.shape)"
   ]
  },
  {
   "cell_type": "markdown",
   "metadata": {},
   "source": [
    "## Softmax Classifier\n",
    "\n",
    "Your code for this section will all be written inside **cs231n/classifiers/softmax.py**. \n"
   ]
  },
  {
   "cell_type": "code",
   "execution_count": 5,
   "metadata": {},
   "outputs": [
    {
     "name": "stdout",
     "output_type": "stream",
     "text": [
      "loss: 2.425605\n",
      "sanity check: 2.302585\n"
     ]
    }
   ],
   "source": [
    "# First implement the naive softmax loss function with nested loops.\n",
    "# Open the file cs231n/classifiers/softmax.py and implement the\n",
    "# softmax_loss_naive function.\n",
    "\n",
    "from cs231n.classifiers.softmax import softmax_loss_naive\n",
    "import time\n",
    "\n",
    "# Generate a random softmax weight matrix and use it to compute the loss.\n",
    "W = np.random.randn(3073, 10) * 0.0001\n",
    "loss, grad = softmax_loss_naive(W, X_dev, y_dev, 0.0)\n",
    "\n",
    "# As a rough sanity check, our loss should be something close to -log(0.1).\n",
    "print('loss: %f' % loss)\n",
    "print('sanity check: %f' % (-np.log(0.1)))"
   ]
  },
  {
   "cell_type": "markdown",
   "metadata": {
    "tags": [
     "pdf-inline"
    ]
   },
   "source": [
    "**Inline Question 1**\n",
    "\n",
    "Why do we expect our loss to be close to -log(0.1)? Explain briefly.**\n",
    "\n",
    "$\\color{blue}{\\textit Your Answer:}$ *Fill this in* \n",
    "\n"
   ]
  },
  {
   "cell_type": "code",
   "execution_count": 6,
   "metadata": {},
   "outputs": [
    {
     "name": "stdout",
     "output_type": "stream",
     "text": [
      "numerical: -4.018403 analytic: -4.018403, relative error: 1.363069e-08\n",
      "numerical: -4.463212 analytic: -4.463212, relative error: 9.203618e-09\n",
      "numerical: -1.666796 analytic: -1.666796, relative error: 9.830389e-09\n",
      "numerical: 1.620100 analytic: 1.620100, relative error: 2.163281e-08\n",
      "numerical: -2.088877 analytic: -2.088877, relative error: 2.039066e-08\n",
      "numerical: 3.076682 analytic: 3.076681, relative error: 3.276664e-08\n",
      "numerical: -0.584501 analytic: -0.584501, relative error: 8.621406e-08\n",
      "numerical: 3.023661 analytic: 3.023661, relative error: 9.571324e-09\n",
      "numerical: 0.351195 analytic: 0.351195, relative error: 1.204567e-07\n",
      "numerical: 1.466663 analytic: 1.466662, relative error: 3.353120e-08\n",
      "numerical: 1.805507 analytic: 1.805507, relative error: 2.736241e-09\n",
      "numerical: 4.753291 analytic: 4.753291, relative error: 2.656583e-08\n",
      "numerical: -3.375744 analytic: -3.375744, relative error: 1.942816e-08\n",
      "numerical: -0.632318 analytic: -0.632318, relative error: 2.928747e-08\n",
      "numerical: 2.591316 analytic: 2.591316, relative error: 1.251562e-08\n",
      "numerical: -0.048789 analytic: -0.048789, relative error: 5.266556e-07\n",
      "numerical: 0.076664 analytic: 0.076664, relative error: 8.278849e-07\n",
      "numerical: 1.519231 analytic: 1.519231, relative error: 6.675374e-08\n",
      "numerical: -1.173412 analytic: -1.173412, relative error: 1.808472e-09\n",
      "numerical: 0.034570 analytic: 0.034570, relative error: 4.249979e-07\n"
     ]
    }
   ],
   "source": [
    "# Complete the implementation of softmax_loss_naive and implement a (naive)\n",
    "# version of the gradient that uses nested loops.\n",
    "loss, grad = softmax_loss_naive(W, X_dev, y_dev, 0.0)\n",
    "\n",
    "# As we did for the SVM, use numeric gradient checking as a debugging tool.\n",
    "# The numeric gradient should be close to the analytic gradient.\n",
    "from cs231n.gradient_check import grad_check_sparse\n",
    "f = lambda w: softmax_loss_naive(w, X_dev, y_dev, 0.0)[0]\n",
    "grad_numerical = grad_check_sparse(f, W, grad, 10)\n",
    "\n",
    "# similar to SVM case, do another gradient check with regularization\n",
    "loss, grad = softmax_loss_naive(W, X_dev, y_dev, 5e1)\n",
    "f = lambda w: softmax_loss_naive(w, X_dev, y_dev, 5e1)[0]\n",
    "grad_numerical = grad_check_sparse(f, W, grad, 10)"
   ]
  },
  {
   "cell_type": "code",
   "execution_count": 13,
   "metadata": {},
   "outputs": [
    {
     "name": "stdout",
     "output_type": "stream",
     "text": [
      "naive loss: 2.425605e+00 computed in 0.170147s\n",
      "vectorized loss: 2.425605e+00 computed in 0.005158s\n",
      "Loss difference: 0.000000\n",
      "Gradient difference: 0.000000\n"
     ]
    }
   ],
   "source": [
    "# Now that we have a naive implementation of the softmax loss function and its gradient,\n",
    "# implement a vectorized version in softmax_loss_vectorized.\n",
    "# The two versions should compute the same results, but the vectorized version should be\n",
    "# much faster.\n",
    "tic = time.time()\n",
    "loss_naive, grad_naive = softmax_loss_naive(W, X_dev, y_dev, 0.000005)\n",
    "toc = time.time()\n",
    "print('naive loss: %e computed in %fs' % (loss_naive, toc - tic))\n",
    "\n",
    "from cs231n.classifiers.softmax import softmax_loss_vectorized\n",
    "tic = time.time()\n",
    "loss_vectorized, grad_vectorized = softmax_loss_vectorized(W, X_dev, y_dev, 0.000005)\n",
    "toc = time.time()\n",
    "print('vectorized loss: %e computed in %fs' % (loss_vectorized, toc - tic))\n",
    "\n",
    "# As we did for the SVM, we use the Frobenius norm to compare the two versions\n",
    "# of the gradient.\n",
    "grad_difference = np.linalg.norm(grad_naive - grad_vectorized, ord='fro')\n",
    "print('Loss difference: %f' % np.abs(loss_naive - loss_vectorized))\n",
    "print('Gradient difference: %f' % grad_difference)"
   ]
  },
  {
   "cell_type": "code",
   "execution_count": 14,
   "metadata": {
    "tags": [
     "code"
    ]
   },
   "outputs": [
    {
     "name": "stderr",
     "output_type": "stream",
     "text": [
      "/home/basasuya/WorkSpace/cs231n/assignment1/cs231n/classifiers/softmax.py:108: RuntimeWarning: overflow encountered in double_scalars\n",
      "/home/basasuya/anaconda3/lib/python3.7/site-packages/numpy/core/fromnumeric.py:86: RuntimeWarning: overflow encountered in reduce\n",
      "  return ufunc.reduce(obj, axis, dtype, out, **passkwargs)\n",
      "/home/basasuya/WorkSpace/cs231n/assignment1/cs231n/classifiers/softmax.py:108: RuntimeWarning: overflow encountered in square\n",
      "/home/basasuya/anaconda3/lib/python3.7/site-packages/numpy/core/_methods.py:75: RuntimeWarning: overflow encountered in reduce\n",
      "  ret = umr_sum(arr, axis, dtype, out, keepdims)\n",
      "/home/basasuya/WorkSpace/cs231n/assignment1/cs231n/classifiers/softmax.py:109: RuntimeWarning: overflow encountered in multiply\n"
     ]
    },
    {
     "name": "stdout",
     "output_type": "stream",
     "text": [
      "lr 1.000000e-08 reg 1.000000e-02 train accuracy: 0.148490 val accuracy: 0.144000\n",
      "lr 1.000000e-08 reg 1.000000e-01 train accuracy: 0.133857 val accuracy: 0.130000\n",
      "lr 1.000000e-08 reg 1.000000e+00 train accuracy: 0.146102 val accuracy: 0.139000\n",
      "lr 1.000000e-08 reg 1.000000e+01 train accuracy: 0.150837 val accuracy: 0.147000\n",
      "lr 1.000000e-08 reg 1.000000e+02 train accuracy: 0.139571 val accuracy: 0.134000\n",
      "lr 1.000000e-08 reg 1.000000e+03 train accuracy: 0.147592 val accuracy: 0.149000\n",
      "lr 1.000000e-08 reg 1.000000e+04 train accuracy: 0.158694 val accuracy: 0.141000\n",
      "lr 1.000000e-08 reg 1.000000e+05 train accuracy: 0.272714 val accuracy: 0.273000\n",
      "lr 1.000000e-07 reg 1.000000e-02 train accuracy: 0.243796 val accuracy: 0.249000\n",
      "lr 1.000000e-07 reg 1.000000e-01 train accuracy: 0.261939 val accuracy: 0.266000\n",
      "lr 1.000000e-07 reg 1.000000e+00 train accuracy: 0.244408 val accuracy: 0.247000\n",
      "lr 1.000000e-07 reg 1.000000e+01 train accuracy: 0.246265 val accuracy: 0.248000\n",
      "lr 1.000000e-07 reg 1.000000e+02 train accuracy: 0.244429 val accuracy: 0.248000\n",
      "lr 1.000000e-07 reg 1.000000e+03 train accuracy: 0.269633 val accuracy: 0.254000\n",
      "lr 1.000000e-07 reg 1.000000e+04 train accuracy: 0.352347 val accuracy: 0.362000\n",
      "lr 1.000000e-07 reg 1.000000e+05 train accuracy: 0.287102 val accuracy: 0.303000\n",
      "lr 1.000000e-06 reg 1.000000e-02 train accuracy: 0.344286 val accuracy: 0.335000\n",
      "lr 1.000000e-06 reg 1.000000e-01 train accuracy: 0.347204 val accuracy: 0.326000\n",
      "lr 1.000000e-06 reg 1.000000e+00 train accuracy: 0.338020 val accuracy: 0.338000\n",
      "lr 1.000000e-06 reg 1.000000e+01 train accuracy: 0.352061 val accuracy: 0.363000\n",
      "lr 1.000000e-06 reg 1.000000e+02 train accuracy: 0.365531 val accuracy: 0.358000\n",
      "lr 1.000000e-06 reg 1.000000e+03 train accuracy: 0.404102 val accuracy: 0.415000\n",
      "lr 1.000000e-06 reg 1.000000e+04 train accuracy: 0.338531 val accuracy: 0.357000\n",
      "lr 1.000000e-06 reg 1.000000e+05 train accuracy: 0.273347 val accuracy: 0.286000\n",
      "lr 1.000000e-05 reg 1.000000e-02 train accuracy: 0.302755 val accuracy: 0.286000\n",
      "lr 1.000000e-05 reg 1.000000e-01 train accuracy: 0.331592 val accuracy: 0.285000\n",
      "lr 1.000000e-05 reg 1.000000e+00 train accuracy: 0.373755 val accuracy: 0.354000\n",
      "lr 1.000000e-05 reg 1.000000e+01 train accuracy: 0.354776 val accuracy: 0.354000\n",
      "lr 1.000000e-05 reg 1.000000e+02 train accuracy: 0.308714 val accuracy: 0.313000\n",
      "lr 1.000000e-05 reg 1.000000e+03 train accuracy: 0.239061 val accuracy: 0.233000\n",
      "lr 1.000000e-05 reg 1.000000e+04 train accuracy: 0.186306 val accuracy: 0.179000\n",
      "lr 1.000000e-05 reg 1.000000e+05 train accuracy: 0.094327 val accuracy: 0.127000\n",
      "lr 1.000000e-04 reg 1.000000e-02 train accuracy: 0.257469 val accuracy: 0.239000\n",
      "lr 1.000000e-04 reg 1.000000e-01 train accuracy: 0.316163 val accuracy: 0.334000\n",
      "lr 1.000000e-04 reg 1.000000e+00 train accuracy: 0.274490 val accuracy: 0.276000\n",
      "lr 1.000000e-04 reg 1.000000e+01 train accuracy: 0.252286 val accuracy: 0.247000\n",
      "lr 1.000000e-04 reg 1.000000e+02 train accuracy: 0.218327 val accuracy: 0.233000\n",
      "lr 1.000000e-04 reg 1.000000e+03 train accuracy: 0.147755 val accuracy: 0.158000\n",
      "lr 1.000000e-04 reg 1.000000e+04 train accuracy: 0.108347 val accuracy: 0.114000\n",
      "lr 1.000000e-04 reg 1.000000e+05 train accuracy: 0.100265 val accuracy: 0.087000\n",
      "best validation accuracy achieved during cross-validation: 0.415000\n"
     ]
    }
   ],
   "source": [
    "# Use the validation set to tune hyperparameters (regularization strength and\n",
    "# learning rate). You should experiment with different ranges for the learning\n",
    "# rates and regularization strengths; if you are careful you should be able to\n",
    "# get a classification accuracy of over 0.35 on the validation set.\n",
    "from cs231n.classifiers import Softmax\n",
    "results = {}\n",
    "best_val = -1\n",
    "best_softmax = None\n",
    "learning_rates = [1e-7, 5e-7]\n",
    "regularization_strengths = [2.5e4, 5e4]\n",
    "\n",
    "################################################################################\n",
    "# TODO:                                                                        #\n",
    "# Use the validation set to set the learning rate and regularization strength. #\n",
    "# This should be identical to the validation that you did for the SVM; save    #\n",
    "# the best trained softmax classifer in best_softmax.                          #\n",
    "################################################################################\n",
    "# *****START OF YOUR CODE (DO NOT DELETE/MODIFY THIS LINE)*****\n",
    "\n",
    "learning_rates = 10**np.linspace(-8, -4, 5)\n",
    "regularization_strengths = 10**np.linspace(-2, 5, 8)\n",
    "\n",
    "for learning_rate in learning_rates:\n",
    "    for reg in regularization_strengths:\n",
    "        # new SVM classifier\n",
    "        softmax = Softmax()\n",
    "        # train the SVM classifier\n",
    "        softmax.train(X_train, y_train, learning_rate=learning_rate, reg=reg, num_iters=1500)\n",
    "        # compute the train and validation accuracy\n",
    "        y_train_pred = softmax.predict(X_train)\n",
    "        training_accuracy = np.mean(y_train == y_train_pred)\n",
    "        y_val_pred = softmax.predict(X_val)\n",
    "        validation_accuracy = np.mean(y_val == y_val_pred)\n",
    "        # store the results\n",
    "        results[(learning_rate, reg)] = (training_accuracy, validation_accuracy)\n",
    "        \n",
    "        # update the best model\n",
    "        if best_val < validation_accuracy:\n",
    "            best_val = validation_accuracy\n",
    "            best_softmax = softmax\n",
    "\n",
    "# *****END OF YOUR CODE (DO NOT DELETE/MODIFY THIS LINE)*****\n",
    "    \n",
    "# Print out results.\n",
    "for lr, reg in sorted(results):\n",
    "    train_accuracy, val_accuracy = results[(lr, reg)]\n",
    "    print('lr %e reg %e train accuracy: %f val accuracy: %f' % (\n",
    "                lr, reg, train_accuracy, val_accuracy))\n",
    "    \n",
    "print('best validation accuracy achieved during cross-validation: %f' % best_val)"
   ]
  },
  {
   "cell_type": "code",
   "execution_count": 15,
   "metadata": {},
   "outputs": [
    {
     "name": "stdout",
     "output_type": "stream",
     "text": [
      "softmax on raw pixels final test set accuracy: 0.382000\n"
     ]
    }
   ],
   "source": [
    "# evaluate on test set\n",
    "# Evaluate the best softmax on test set\n",
    "y_test_pred = best_softmax.predict(X_test)\n",
    "test_accuracy = np.mean(y_test == y_test_pred)\n",
    "print('softmax on raw pixels final test set accuracy: %f' % (test_accuracy, ))"
   ]
  },
  {
   "cell_type": "markdown",
   "metadata": {
    "tags": [
     "pdf-inline"
    ]
   },
   "source": [
    "**Inline Question 2** - *True or False*\n",
    "\n",
    "Suppose the overall training loss is defined as the sum of the per-datapoint loss over all training examples. It is possible to add a new datapoint to a training set that would leave the SVM loss unchanged, but this is not the case with the Softmax classifier loss.\n",
    "\n",
    "$\\color{blue}{\\textit Your Answer:}$\n",
    "\n",
    "\n",
    "$\\color{blue}{\\textit Your Explanation:}$\n",
    "\n"
   ]
  },
  {
   "cell_type": "code",
   "execution_count": 16,
   "metadata": {},
   "outputs": [
    {
     "data": {
      "image/png": "[encoded data removed]",
      "text/plain": [
       "<Figure size 432x288 with 10 Axes>"
      ]
     },
     "metadata": {
      "needs_background": "light"
     },
     "output_type": "display_data"
    }
   ],
   "source": [
    "# Visualize the learned weights for each class\n",
    "w = best_softmax.W[:-1,:] # strip out the bias\n",
    "w = w.reshape(32, 32, 3, 10)\n",
    "\n",
    "w_min, w_max = np.min(w), np.max(w)\n",
    "\n",
    "classes = ['plane', 'car', 'bird', 'cat', 'deer', 'dog', 'frog', 'horse', 'ship', 'truck']\n",
    "for i in range(10):\n",
    "    plt.subplot(2, 5, i + 1)\n",
    "    \n",
    "    # Rescale the weights to be between 0 and 255\n",
    "    wimg = 255.0 * (w[:, :, :, i].squeeze() - w_min) / (w_max - w_min)\n",
    "    plt.imshow(wimg.astype('uint8'))\n",
    "    plt.axis('off')\n",
    "    plt.title(classes[i])"
   ]
  },
  {
   "cell_type": "code",
   "execution_count": null,
   "metadata": {},
   "outputs": [],
   "source": []
  }
 ],
 "metadata": {
  "kernelspec": {
   "display_name": "Python 3",
   "language": "python",
   "name": "python3"
  },
  "language_info": {
   "codemirror_mode": {
    "name": "ipython",
    "version": 3
   },
   "file_extension": ".py",
   "mimetype": "text/x-python",
   "name": "python",
   "nbconvert_exporter": "python",
   "pygments_lexer": "ipython3",
   "version": "3.7.3"
  }
 },
 "nbformat": 4,
 "nbformat_minor": 2
}
